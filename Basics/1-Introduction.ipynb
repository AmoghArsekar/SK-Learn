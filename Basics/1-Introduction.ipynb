{
 "cells": [
  {
   "cell_type": "markdown",
   "id": "024fd5fd",
   "metadata": {},
   "source": [
    "### Example of Pipeline Creation and Usage"
   ]
  },
  {
   "cell_type": "code",
   "execution_count": 9,
   "id": "641f280d",
   "metadata": {},
   "outputs": [],
   "source": [
    "from sklearn.datasets import load_iris\n",
    "from sklearn.pipeline import make_pipeline\n",
    "from sklearn.preprocessing import StandardScaler\n",
    "from sklearn.linear_model import LogisticRegression\n",
    "from sklearn.model_selection import train_test_split\n",
    "from sklearn.metrics import accuracy_score"
   ]
  },
  {
   "cell_type": "code",
   "execution_count": null,
   "id": "3fe3b163",
   "metadata": {},
   "outputs": [],
   "source": [
    "pipe = make_pipeline(StandardScaler(), LogisticRegression());   #* Pipeline creation\n",
    "\n",
    "X, y = load_iris(return_X_y=True);  #* Load dataset\n",
    "\n",
    "#* Split dataset into training and testing sets\n",
    "X_train, X_test, y_train, y_test = train_test_split(X, y, random_state=0);"
   ]
  },
  {
   "cell_type": "code",
   "execution_count": null,
   "id": "21a26d7d",
   "metadata": {},
   "outputs": [
    {
     "name": "stdout",
     "output_type": "stream",
     "text": [
      "Accuracy: 97.37%\n"
     ]
    }
   ],
   "source": [
    "pipe.fit(X_train, y_train); #* Train the model\n",
    "score = accuracy_score(y_test, pipe.predict(X_test)); #* Evaluate the model\n",
    "print(f\"Accuracy: {score*100:.2f}%\");"
   ]
  },
  {
   "cell_type": "markdown",
   "id": "acfcaf3f",
   "metadata": {},
   "source": [
    "### Hyper-parameter Tuning\n",
    "- Hyper-parameters are configuration variables set before the training process begins.\n",
    "- They are used to fine tune the learning process of the model.\n",
    "- They are distinct from model parameters that are learned during the training."
   ]
  },
  {
   "cell_type": "code",
   "execution_count": 17,
   "id": "efcc2df1",
   "metadata": {},
   "outputs": [],
   "source": [
    "from sklearn.datasets import fetch_california_housing\n",
    "from sklearn.model_selection import RandomizedSearchCV, train_test_split\n",
    "from sklearn.ensemble import RandomForestRegressor\n",
    "from scipy.stats import randint"
   ]
  },
  {
   "cell_type": "code",
   "execution_count": 18,
   "id": "cac46883",
   "metadata": {},
   "outputs": [],
   "source": [
    "X, y = fetch_california_housing(return_X_y=True);\n",
    "X_train, X_test, y_train, y_test = train_test_split(X, y, random_state=0);\n",
    "\n",
    "param_dist = {\n",
    "    'n_estimators': randint(1, 5),\n",
    "    'max_depth': randint(5, 10),\n",
    "};"
   ]
  },
  {
   "cell_type": "code",
   "execution_count": null,
   "id": "c426cc8b",
   "metadata": {},
   "outputs": [
    {
     "name": "stdout",
     "output_type": "stream",
     "text": [
      "Best Parameters: {'max_depth': 9, 'n_estimators': 4}\n"
     ]
    }
   ],
   "source": [
    "search = RandomizedSearchCV(\n",
    "    estimator=RandomForestRegressor(random_state=0),\n",
    "    param_distributions=param_dist,\n",
    "    n_iter=5,\n",
    "    random_state=0\n",
    ");\n",
    "search.fit(X_train, y_train);\n",
    "print(f\"Best Parameters: {search.best_params_}\");"
   ]
  },
  {
   "cell_type": "code",
   "execution_count": 22,
   "id": "ac9146be",
   "metadata": {},
   "outputs": [
    {
     "name": "stdout",
     "output_type": "stream",
     "text": [
      "Test Score: 0.735363411343253\n"
     ]
    }
   ],
   "source": [
    "score = search.score(X_test, y_test);\n",
    "print(f\"Test Score: {score}\");"
   ]
  }
 ],
 "metadata": {
  "kernelspec": {
   "display_name": "base",
   "language": "python",
   "name": "python3"
  },
  "language_info": {
   "codemirror_mode": {
    "name": "ipython",
    "version": 3
   },
   "file_extension": ".py",
   "mimetype": "text/x-python",
   "name": "python",
   "nbconvert_exporter": "python",
   "pygments_lexer": "ipython3",
   "version": "3.12.7"
  }
 },
 "nbformat": 4,
 "nbformat_minor": 5
}
